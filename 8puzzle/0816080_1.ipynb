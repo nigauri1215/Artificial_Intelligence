{
  "nbformat": 4,
  "nbformat_minor": 0,
  "metadata": {
    "colab": {
      "name": "0000000_1.ipynb",
      "provenance": [],
      "collapsed_sections": []
    },
    "kernelspec": {
      "name": "python3",
      "display_name": "Python 3"
    }
  },
  "cells": [
    {
      "cell_type": "markdown",
      "metadata": {
        "id": "phl4Y2-kWRwN"
      },
      "source": [
        "# Artificial Intelligence - Assignment 1\n",
        "\n",
        "## 1. Description\n",
        "\n",
        "In this assignment, you are going to solve the 8-puzzle using any algorithm. The `EightPuzzle` class is written and provided by TAs, you don't need to implement the puzzle yourself, just import and use.\n",
        "\n",
        "## 2. How to use `EightPuzzle`\n",
        "\n",
        "```python\n",
        "from eight_puzzle import EightPuzzle # import\n",
        "\n",
        "puzzle = EightPuzzle()\n",
        "\n",
        "puzzle.init()     # initialize a solvable puzzle state\n",
        "puzzle.init(seed) # initialize a solvable puzzle state using a seed\n",
        "print(puzzle)     # show current puzzle state\n",
        "\n",
        "# move\n",
        "puzzle.move('up')\n",
        "puzzle.move('down')\n",
        "puzzle.move('left')\n",
        "puzzle.move('right')\n",
        "\n",
        "if puzzle.state == puzzle.FINAL_STATE:\n",
        "  print('You have solved the puzzle')\n",
        "\n",
        "# Useful: get the next state after you move in a direction,\n",
        "# this won't change the internal state of EightPuzzle.\n",
        "state_after_move_up = puzzle.get_state_after_move(current_state, 'up')\n",
        "\n",
        "```\n",
        "\n"
      ]
    },
    {
      "cell_type": "code",
      "metadata": {
        "id": "402LsZPhUmgl",
        "colab": {
          "base_uri": "https://localhost:8080/"
        },
        "outputId": "6b5fa631-d64b-4b79-a450-bdbd1f1f18c3"
      },
      "source": [
        "# NOTE: PLEASE KEEP THIS CELL NOT MODIFIED!\n",
        "\n",
        "# download eight_puzzle.py (YOU SHOULD NOT MODIFY eight_puzzle.py)\n",
        "!wget https://lab.djosix.com/eight_puzzle.py -qO eight_puzzle.py\n",
        "!sha1sum eight_puzzle.py\n",
        "\n",
        "from eight_puzzle import EightPuzzle, test"
      ],
      "execution_count": 1,
      "outputs": [
        {
          "output_type": "stream",
          "text": [
            "1b9a6e8af95aed1010690788274f6c453ae88ed6  eight_puzzle.py\n"
          ],
          "name": "stdout"
        }
      ]
    },
    {
      "cell_type": "markdown",
      "metadata": {
        "id": "88DHHOdWnUMk"
      },
      "source": [
        ""
      ]
    },
    {
      "cell_type": "markdown",
      "metadata": {
        "id": "yCDHjleOb9Fd"
      },
      "source": [
        "## 3. Implement a search algorithm to solve 8-puzzle"
      ]
    },
    {
      "cell_type": "code",
      "metadata": {
        "id": "_OuRn868WNW0"
      },
      "source": [
        "def solve(p):\n",
        "    '''Solve the given 8-puzzle and return a list of moves.\n",
        "\n",
        "    Args:\n",
        "      puzzle (EightPuzzle): an EightPuzzle object.\n",
        "\n",
        "    Returns:\n",
        "      list: a list containing each move direction, for example:\n",
        "            ['up', 'down', 'left', 'left', ...]\n",
        "    '''\n",
        "\n",
        "    \n",
        "    # YOUR CODE HERE\n",
        "    \n",
        "    \n",
        "    q=list()\n",
        "    \n",
        "    explored=dict()\n",
        "    backtrace=dict()\n",
        "    start=p.state\n",
        "\n",
        "    q.append(p.state)\n",
        "    backtrace[p.state]=None\n",
        "    explored[p.state]=True\n",
        "    \n",
        "\n",
        "    while len(q)>0:\n",
        "      current_state=q.pop(0)\n",
        "\n",
        "      if current_state==p.FINAL_STATE:\n",
        "        break\n",
        "\n",
        "\n",
        "      for i in p.DIRECTIONS:\n",
        "        move_state=p.get_state_after_move(current_state,i)\n",
        "\n",
        "        if move_state== None or move_state in explored.keys() :\n",
        "          continue\n",
        "        q.append(move_state)\n",
        "        explored[move_state]=True\n",
        "        backtrace[move_state]=(current_state,i)\n",
        "    \n",
        "    ans=list()\n",
        "\n",
        "    while current_state!=start:\n",
        "      ans.append(backtrace.get(current_state)[1])\n",
        "      current_state=backtrace.get(current_state)[0]\n",
        "\n",
        "    ans.reverse()\n",
        "    return ans\n"
      ],
      "execution_count": 2,
      "outputs": []
    },
    {
      "cell_type": "markdown",
      "metadata": {
        "id": "MPBYw09wWPSL"
      },
      "source": [
        "## 4. Test your algorithm"
      ]
    },
    {
      "cell_type": "code",
      "metadata": {
        "id": "567OKKy0psOR",
        "colab": {
          "base_uri": "https://localhost:8080/"
        },
        "outputId": "8b6b6ccf-cfb6-4e5f-8be3-5e0287edb7ca"
      },
      "source": [
        "# NOTE: PLEASE KEEP THIS CELL NOT MODIFIED!\n",
        "\n",
        "results = test(solve, seed=123, n=10)"
      ],
      "execution_count": 3,
      "outputs": [
        {
          "output_type": "stream",
          "text": [
            "Running tests with seed: 123\n",
            "Test | seed: 55260453 | puzzle: (8, 6, 2, 5, 7, 0, 3, 1, 4) | elapsed: 1.7707s | solved\n",
            "Test | seed: 85291046 | puzzle: (2, 3, 4, 7, 0, 6, 1, 5, 8) | elapsed: 0.3535s | solved\n",
            "Test | seed: 54801393 | puzzle: (8, 2, 1, 3, 7, 6, 5, 4, 0) | elapsed: 1.6784s | solved\n",
            "Test | seed: 42905268 | puzzle: (4, 2, 1, 6, 5, 8, 7, 0, 3) | elapsed: 0.6089s | solved\n",
            "Test | seed: 31981756 | puzzle: (6, 2, 4, 3, 5, 8, 1, 0, 7) | elapsed: 0.7534s | solved\n",
            "Test | seed: 10224217 | puzzle: (5, 3, 4, 0, 8, 6, 2, 7, 1) | elapsed: 1.5019s | solved\n",
            "Test | seed: 68555945 | puzzle: (2, 4, 0, 6, 8, 3, 1, 7, 5) | elapsed: 0.0278s | solved\n",
            "Test | seed: 21759284 | puzzle: (3, 5, 4, 6, 1, 7, 2, 8, 0) | elapsed: 1.7763s | solved\n",
            "Test | seed: 90208442 | puzzle: (8, 7, 6, 3, 4, 0, 2, 5, 1) | elapsed: 1.7140s | solved\n",
            "Test | seed: 60679913 | puzzle: (6, 3, 2, 7, 4, 5, 8, 1, 0) | elapsed: 1.2134s | solved\n",
            "===> Solved: 10/10\n",
            "===> Average elapsed time: 1.1398s\n"
          ],
          "name": "stdout"
        }
      ]
    },
    {
      "cell_type": "markdown",
      "metadata": {
        "id": "zIHyo9QW7S7o"
      },
      "source": [
        "## 5. Submitting your assignment\n",
        "\n",
        "\n",
        "1. You have to save 2 files:\n",
        "  \n",
        "  - Click \"File\" > \"Download .ipynb\" to download `XXXXXXX_1.ipynb`\n",
        "  - Click \"File\" > \"Download .py\" to download `XXXXXXX_1.py`\n",
        "  \n",
        "  where `XXXXXXX` is your student ID.  \n",
        "\n",
        "2. Compress these 2 files into a `.zip` file named `XXXXXXX_1.zip`.\n",
        "\n",
        "3. Upload the zip file to E3.\n",
        "\n",
        "> **NOTE: You should click \"Runtime\" > \"Restart and run all\" before submitting to E3 to check if your program is able to run without any exception.**"
      ]
    }
  ]
}